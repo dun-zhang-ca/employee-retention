{
 "metadata": {
  "language_info": {
   "codemirror_mode": {
    "name": "ipython",
    "version": 3
   },
   "file_extension": ".py",
   "mimetype": "text/x-python",
   "name": "python",
   "nbconvert_exporter": "python",
   "pygments_lexer": "ipython3",
   "version": "3.8.8"
  },
  "orig_nbformat": 4,
  "kernelspec": {
   "name": "python3",
   "display_name": "Python 3.8.8 64-bit ('base': conda)"
  },
  "interpreter": {
   "hash": "2b62786a555495ddebdde2a9003b9c7d6acb57e0c8d29856d3519fce61b17565"
  }
 },
 "nbformat": 4,
 "nbformat_minor": 2,
 "cells": [
  {
   "cell_type": "code",
   "execution_count": 1,
   "metadata": {},
   "outputs": [
    {
     "output_type": "execute_result",
     "data": {
      "text/plain": [
       "   employee_id  company_id              dept  ...    salary   join_date   quit_date\n",
       "0      13021.0           7  customer_service  ...   89000.0  2014-03-24  2015-10-30\n",
       "1     825355.0           7         marketing  ...  183000.0  2013-04-29  2014-04-04\n",
       "2     927315.0           4         marketing  ...  101000.0  2014-10-13         NaN\n",
       "3     662910.0           7  customer_service  ...  115000.0  2012-05-14  2013-06-07\n",
       "4     256971.0           2      data_science  ...  276000.0  2011-10-17  2014-08-22\n",
       "\n",
       "[5 rows x 7 columns]"
      ],
      "text/html": "<div>\n<style scoped>\n    .dataframe tbody tr th:only-of-type {\n        vertical-align: middle;\n    }\n\n    .dataframe tbody tr th {\n        vertical-align: top;\n    }\n\n    .dataframe thead th {\n        text-align: right;\n    }\n</style>\n<table border=\"1\" class=\"dataframe\">\n  <thead>\n    <tr style=\"text-align: right;\">\n      <th></th>\n      <th>employee_id</th>\n      <th>company_id</th>\n      <th>dept</th>\n      <th>seniority</th>\n      <th>salary</th>\n      <th>join_date</th>\n      <th>quit_date</th>\n    </tr>\n  </thead>\n  <tbody>\n    <tr>\n      <th>0</th>\n      <td>13021.0</td>\n      <td>7</td>\n      <td>customer_service</td>\n      <td>28</td>\n      <td>89000.0</td>\n      <td>2014-03-24</td>\n      <td>2015-10-30</td>\n    </tr>\n    <tr>\n      <th>1</th>\n      <td>825355.0</td>\n      <td>7</td>\n      <td>marketing</td>\n      <td>20</td>\n      <td>183000.0</td>\n      <td>2013-04-29</td>\n      <td>2014-04-04</td>\n    </tr>\n    <tr>\n      <th>2</th>\n      <td>927315.0</td>\n      <td>4</td>\n      <td>marketing</td>\n      <td>14</td>\n      <td>101000.0</td>\n      <td>2014-10-13</td>\n      <td>NaN</td>\n    </tr>\n    <tr>\n      <th>3</th>\n      <td>662910.0</td>\n      <td>7</td>\n      <td>customer_service</td>\n      <td>20</td>\n      <td>115000.0</td>\n      <td>2012-05-14</td>\n      <td>2013-06-07</td>\n    </tr>\n    <tr>\n      <th>4</th>\n      <td>256971.0</td>\n      <td>2</td>\n      <td>data_science</td>\n      <td>23</td>\n      <td>276000.0</td>\n      <td>2011-10-17</td>\n      <td>2014-08-22</td>\n    </tr>\n  </tbody>\n</table>\n</div>"
     },
     "metadata": {},
     "execution_count": 1
    }
   ],
   "source": [
    "import pandas as pd \n",
    "import numpy as np\n",
    "\n",
    "df = pd.read_csv('employee_retention.csv')\n",
    "df.head()"
   ]
  },
  {
   "cell_type": "code",
   "execution_count": 3,
   "metadata": {},
   "outputs": [
    {
     "output_type": "execute_result",
     "data": {
      "text/plain": [
       "employee_id    float64\n",
       "company_id       int64\n",
       "dept            object\n",
       "seniority        int64\n",
       "salary         float64\n",
       "join_date       object\n",
       "quit_date       object\n",
       "dtype: object"
      ]
     },
     "metadata": {},
     "execution_count": 3
    }
   ],
   "source": [
    "df.dtypes"
   ]
  },
  {
   "cell_type": "code",
   "execution_count": 4,
   "metadata": {},
   "outputs": [
    {
     "output_type": "execute_result",
     "data": {
      "text/plain": [
       "(24702, 7)"
      ]
     },
     "metadata": {},
     "execution_count": 4
    }
   ],
   "source": [
    "df.shape"
   ]
  },
  {
   "cell_type": "code",
   "execution_count": 6,
   "metadata": {},
   "outputs": [
    {
     "output_type": "stream",
     "name": "stderr",
     "text": [
      "<ipython-input-6-c2ff61ef35f3>:8: FutureWarning: Treating datetime data as categorical rather than numeric in `.describe` is deprecated and will be removed in a future version of pandas. Specify `datetime_is_numeric=True` to silence this warning and adopt the future behavior now.\n  df.describe(include='all')\n<ipython-input-6-c2ff61ef35f3>:8: FutureWarning: Treating datetime data as categorical rather than numeric in `.describe` is deprecated and will be removed in a future version of pandas. Specify `datetime_is_numeric=True` to silence this warning and adopt the future behavior now.\n  df.describe(include='all')\n"
     ]
    },
    {
     "output_type": "execute_result",
     "data": {
      "text/plain": [
       "          employee_id    company_id  ...            join_date            quit_date\n",
       "count    24702.000000  24702.000000  ...                24702                13510\n",
       "unique            NaN           NaN  ...                  995                  664\n",
       "top               NaN           NaN  ...  2012-01-03 00:00:00  2015-05-08 00:00:00\n",
       "freq              NaN           NaN  ...                  105                  111\n",
       "first             NaN           NaN  ...  2011-01-24 00:00:00  2011-10-13 00:00:00\n",
       "last              NaN           NaN  ...  2015-12-10 00:00:00  2015-12-09 00:00:00\n",
       "mean    501604.403530      3.426969  ...                  NaN                  NaN\n",
       "std     288909.026101      2.700011  ...                  NaN                  NaN\n",
       "min         36.000000      1.000000  ...                  NaN                  NaN\n",
       "25%     250133.750000      1.000000  ...                  NaN                  NaN\n",
       "50%     500793.000000      2.000000  ...                  NaN                  NaN\n",
       "75%     753137.250000      5.000000  ...                  NaN                  NaN\n",
       "max     999969.000000     12.000000  ...                  NaN                  NaN\n",
       "\n",
       "[13 rows x 7 columns]"
      ],
      "text/html": "<div>\n<style scoped>\n    .dataframe tbody tr th:only-of-type {\n        vertical-align: middle;\n    }\n\n    .dataframe tbody tr th {\n        vertical-align: top;\n    }\n\n    .dataframe thead th {\n        text-align: right;\n    }\n</style>\n<table border=\"1\" class=\"dataframe\">\n  <thead>\n    <tr style=\"text-align: right;\">\n      <th></th>\n      <th>employee_id</th>\n      <th>company_id</th>\n      <th>dept</th>\n      <th>seniority</th>\n      <th>salary</th>\n      <th>join_date</th>\n      <th>quit_date</th>\n    </tr>\n  </thead>\n  <tbody>\n    <tr>\n      <th>count</th>\n      <td>24702.000000</td>\n      <td>24702.000000</td>\n      <td>24702</td>\n      <td>24702.000000</td>\n      <td>24702.000000</td>\n      <td>24702</td>\n      <td>13510</td>\n    </tr>\n    <tr>\n      <th>unique</th>\n      <td>NaN</td>\n      <td>NaN</td>\n      <td>6</td>\n      <td>NaN</td>\n      <td>NaN</td>\n      <td>995</td>\n      <td>664</td>\n    </tr>\n    <tr>\n      <th>top</th>\n      <td>NaN</td>\n      <td>NaN</td>\n      <td>customer_service</td>\n      <td>NaN</td>\n      <td>NaN</td>\n      <td>2012-01-03 00:00:00</td>\n      <td>2015-05-08 00:00:00</td>\n    </tr>\n    <tr>\n      <th>freq</th>\n      <td>NaN</td>\n      <td>NaN</td>\n      <td>9180</td>\n      <td>NaN</td>\n      <td>NaN</td>\n      <td>105</td>\n      <td>111</td>\n    </tr>\n    <tr>\n      <th>first</th>\n      <td>NaN</td>\n      <td>NaN</td>\n      <td>NaN</td>\n      <td>NaN</td>\n      <td>NaN</td>\n      <td>2011-01-24 00:00:00</td>\n      <td>2011-10-13 00:00:00</td>\n    </tr>\n    <tr>\n      <th>last</th>\n      <td>NaN</td>\n      <td>NaN</td>\n      <td>NaN</td>\n      <td>NaN</td>\n      <td>NaN</td>\n      <td>2015-12-10 00:00:00</td>\n      <td>2015-12-09 00:00:00</td>\n    </tr>\n    <tr>\n      <th>mean</th>\n      <td>501604.403530</td>\n      <td>3.426969</td>\n      <td>NaN</td>\n      <td>14.127803</td>\n      <td>138183.345478</td>\n      <td>NaN</td>\n      <td>NaN</td>\n    </tr>\n    <tr>\n      <th>std</th>\n      <td>288909.026101</td>\n      <td>2.700011</td>\n      <td>NaN</td>\n      <td>8.089520</td>\n      <td>76058.184573</td>\n      <td>NaN</td>\n      <td>NaN</td>\n    </tr>\n    <tr>\n      <th>min</th>\n      <td>36.000000</td>\n      <td>1.000000</td>\n      <td>NaN</td>\n      <td>1.000000</td>\n      <td>17000.000000</td>\n      <td>NaN</td>\n      <td>NaN</td>\n    </tr>\n    <tr>\n      <th>25%</th>\n      <td>250133.750000</td>\n      <td>1.000000</td>\n      <td>NaN</td>\n      <td>7.000000</td>\n      <td>79000.000000</td>\n      <td>NaN</td>\n      <td>NaN</td>\n    </tr>\n    <tr>\n      <th>50%</th>\n      <td>500793.000000</td>\n      <td>2.000000</td>\n      <td>NaN</td>\n      <td>14.000000</td>\n      <td>123000.000000</td>\n      <td>NaN</td>\n      <td>NaN</td>\n    </tr>\n    <tr>\n      <th>75%</th>\n      <td>753137.250000</td>\n      <td>5.000000</td>\n      <td>NaN</td>\n      <td>21.000000</td>\n      <td>187000.000000</td>\n      <td>NaN</td>\n      <td>NaN</td>\n    </tr>\n    <tr>\n      <th>max</th>\n      <td>999969.000000</td>\n      <td>12.000000</td>\n      <td>NaN</td>\n      <td>99.000000</td>\n      <td>408000.000000</td>\n      <td>NaN</td>\n      <td>NaN</td>\n    </tr>\n  </tbody>\n</table>\n</div>"
     },
     "metadata": {},
     "execution_count": 6
    }
   ],
   "source": [
    "# first task: get the headcount on each day for all companies\n",
    "\n",
    "from datetime import datetime\n",
    "\n",
    "df['join_date'] = pd.to_datetime(df['join_date'])\n",
    "df['quit_date'] = pd.to_datetime(df['quit_date'])\n",
    "\n",
    "df.describe(include='all')"
   ]
  },
  {
   "cell_type": "code",
   "execution_count": 16,
   "metadata": {},
   "outputs": [
    {
     "output_type": "stream",
     "name": "stdout",
     "text": [
      "         date  company_id  count\n4  2011-01-24           1   25.0\n16 2011-01-25           1   27.0\n28 2011-01-26           1   29.0\n40 2011-01-27           1   29.0\n52 2011-01-28           1   29.0\n"
     ]
    }
   ],
   "source": [
    "# the list of all days\n",
    "uniq_dates = pd.date_range(start='2011/01/24', end='2015/12/13')\n",
    "\n",
    "# the list of all companies\n",
    "uniq_companies = df['company_id'].unique()\n",
    "\n",
    "# all possbile combinations of company and date\n",
    "df_headcount = pd.MultiIndex.from_product([uniq_dates, uniq_companies], names=['date', 'company_id'])\n",
    "df_headcount = pd.DataFrame(index=df_headcount).reset_index()\n",
    "\n",
    "\n",
    "# method 1: use join\n",
    "df_join = df.groupby(['join_date', 'company_id']).size().reset_index(name='join_count')\n",
    "df_join.columns.values[0] = 'date'\n",
    "\n",
    "df_quit = df.groupby(['quit_date', 'company_id']).size().reset_index(name='quit_count')\n",
    "df_quit.columns.values[0] = 'date'\n",
    "\n",
    "# now join with all possible combinations\n",
    "df_headcount = pd.merge(df_headcount, df_join, on=['date', 'company_id'], how='left')\n",
    "df_headcount = pd.merge(df_headcount, df_quit, on=['date', 'company_id'], how='left')\n",
    "\n",
    "df_headcount.fillna(0, inplace=True)\n",
    "\n",
    "\n",
    "# do the cumsum\n",
    "df_headcount['cumsum_join'] = df_headcount.groupby(['company_id'])['join_count'].apply(lambda x:x.cumsum())\n",
    "df_headcount['cumsum_quit'] = df_headcount.groupby(['company_id'])['quit_count'].apply(lambda x:x.cumsum())\n",
    "\n",
    "# on each day, get the subtraction of join_count and quit_count\n",
    "df_headcount['count'] = df_headcount['cumsum_join'] - df_headcount['cumsum_quit']\n",
    "df_headcount_table = df_headcount[['date', 'company_id', 'count']]\n",
    "\n",
    "print(df_headcount_table.query('company_id==1').head(5))"
   ]
  }
 ]
}